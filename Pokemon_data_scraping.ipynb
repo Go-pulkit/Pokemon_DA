{
 "cells": [
  {
   "cell_type": "code",
   "execution_count": 1,
   "id": "amino-porter",
   "metadata": {},
   "outputs": [],
   "source": [
    "from bs4 import BeautifulSoup\n",
    "import requests"
   ]
  },
  {
   "cell_type": "code",
   "execution_count": 2,
   "id": "qualified-irrigation",
   "metadata": {},
   "outputs": [],
   "source": [
    "html_text = requests.get('https://serebii.net/swordshield/pokemon.shtml').text\n",
    "soup = BeautifulSoup(html_text, 'lxml')\n"
   ]
  },
  {
   "cell_type": "code",
   "execution_count": 3,
   "id": "distant-waters",
   "metadata": {},
   "outputs": [],
   "source": [
    "table = soup.find_all('table', class_ = 'tab')\n"
   ]
  },
  {
   "cell_type": "code",
   "execution_count": 4,
   "id": "contrary-treatment",
   "metadata": {},
   "outputs": [
    {
     "name": "stdout",
     "output_type": "stream",
     "text": [
      "['#810', 'Grookeyサルノリ', 'Overgrow Grassy Surge', '50', '65', '50', '40', '40', '65', '#811', 'Thwackeyバチンキー', 'Overgrow Grassy Surge', '70', '85', '70', '55', '60', '80', '#812', 'Rillaboomゴリランダー', 'Overgrow Grassy Surge', '100', '125', '90', '60', '70', '85', '#813', 'Scorbunnyヒバニー', 'Blaze Libero', '50', '71', '40', '40', '40', '69', '#814', 'Rabootラビフット', 'Blaze Libero', '65', '86', '60', '55', '60', '94', '#815', 'Cinderaceエースバーン', 'Blaze Libero', '80', '116', '75', '65', '75', '119', '#816', 'Sobbleメッソン', 'Torrent Sniper', '50', '40', '40', '70', '40', '70', '#817', 'Drizzileジメレオン', 'Torrent Sniper', '65', '60', '55', '95', '55', '90', '#818', 'Inteleonインテレオン', 'Torrent Sniper', '70', '85', '65', '125', '65', '120', '#819', 'Skwovetホシガリス', 'Cheek Pouch Gluttony', '70', '55', '55', '35', '35', '25', '#820', 'Greedentヨクバリス', 'Cheek Pouch Gluttony', '120', '95', '95', '55', '75', '20', '#821', 'Rookideeココガラ', 'Keen Eye Unnerve Big Pecks', '38', '47', '35', '33', '35', '57', '#822', 'Corvisquireアオガラス', 'Keen Eye Unnerve Big Pecks', '68', '67', '55', '43', '55', '77', '#823', 'Corviknightアーマーガア', 'Pressure Unnerve Mirror Armor', '98', '87', '105', '53', '85', '67', '#824', 'Blipbugサッチムシ', 'Swarm Compoundeyes Telepathy', '25', '20', '20', '25', '45', '45', '#825', 'Dottlerレドームシ', 'Swarm Compoundeyes Telepathy', '50', '35', '80', '50', '90', '30', '#826', 'Orbeetleイオルブ', 'Swarm Frisk Telepathy', '60', '45', '110', '80', '120', '90', '#827', 'Nickitクスネ', 'Run Away Unburden Stakeout', '40', '28', '28', '47', '52', '50', '#828', 'Thievulフォクスライ', 'Run Away Unburden Stakeout', '70', '58', '58', '87', '92', '90', '#829', 'Gossifleurヒメンカ', 'Cotton Down Regenerator Effect Spore', '40', '40', '60', '40', '60', '10', '#830', 'Eldegossワタシラガ', 'Cotton Down Regenerator Effect Spore', '60', '50', '90', '80', '120', '60', '#831', 'Woolooウールー', 'Fluffy Run Away Bulletproof', '42', '40', '55', '40', '45', '48', '#832', 'Dubwoolバイウールー', 'Fluffy Steadfast Bulletproof', '72', '80', '100', '60', '90', '88', '#833', 'Chewtleカムカメ', 'Strong Jaw Shell Armor Swift Swim', '50', '64', '50', '38', '38', '44', '#834', 'Drednawカジリガメ', 'Strong Jaw Shell Armor Swift Swim', '90', '115', '90', '48', '68', '74', '#835', 'Yamperワンパチ', 'Ball Fetch Rattled', '59', '45', '50', '40', '50', '26', '#836', 'Boltundパルスワン', 'Strong Jaw Competitive', '69', '90', '60', '90', '60', '121', '#837', 'Rolycolyタンドン', 'Steam Engine Heatproof Flash Fire', '30', '40', '50', '40', '50', '30', '#838', 'Carkolトロッゴン', 'Steam Engine Flame Body Flash Fire', '80', '60', '90', '60', '70', '50', '#839', 'Coalossalセキタンザン', 'Steam Engine Flame Body Flash Fire', '110', '80', '120', '80', '90', '30', '#840', 'Applinカジッチュ', 'Ripen Gluttony Bulletproof', '40', '40', '80', '40', '40', '20', '#841', 'Flappleアップリュー', 'Ripen Gluttony Hustle', '70', '110', '80', '95', '60', '70', '#842', 'Appletunタルップル', 'Ripen Gluttony Thick Fat', '110', '85', '80', '100', '80', '30', '#843', 'Silicobraスナヘビ', 'Sand Spit Shed Skin Sand Veil', '52', '57', '75', '35', '50', '46', '#844', 'Sandacondaサダイジャ', 'Sand Spit Shed Skin Sand Veil', '72', '107', '125', '65', '70', '71', '#845', 'Cramorantウッウ', 'Gulp Missile', '70', '85', '55', '85', '95', '85', '#846', 'Arrokudaサシカマス', 'Swift Swim Propeller Tail', '41', '63', '40', '40', '30', '66', '#847', 'Barraskewdaカマスジョー', 'Swift Swim Propeller Tail', '61', '123', '60', '60', '50', '136', '#848', 'Toxelエレズン', 'Rattled Static Klutz', '40', '38', '35', '54', '35', '40', '#849', 'Toxtricityストリンダー', 'Punk Rock Plus Technician', '75', '98', '70', '114', '70', '75', '#849', 'Toxtricityストリンダー', 'Punk Rock Minus Technician', '75', '98', '70', '114', '70', '75', '#850', 'Sizzlipedeヤクデ', 'Flash Fire White Smoke Flame Body', '50', '65', '45', '50', '50', '45', '#851', 'Centiskorchマルヤクデ', 'Flash Fire White Smoke Flame Body', '100', '115', '65', '90', '90', '65', '#852', 'Clobbopusタタッコ', 'Limber Technician', '50', '68', '60', '50', '50', '32', '#853', 'Grapploctオトスパス', 'Limber Technician', '80', '118', '90', '70', '80', '42', '#854', 'Sinisteaヤバチャ', 'Weak Armor Cursed Body', '40', '45', '45', '74', '54', '50', '#855', 'Polteageistポットデス', 'Weak Armor Cursed Body', '60', '65', '65', '134', '114', '70', '#856', 'Hatennaミブリム', 'Healer Anticipation Magic Bounce', '42', '30', '45', '56', '53', '39', '#857', 'Hattremテブリム', 'Healer Anticipation Magic Bounce', '57', '40', '65', '86', '73', '49', '#858', 'Hattereneブリムオン', 'Healer Anticipation Magic Bounce', '57', '90', '95', '136', '103', '29', '#859', 'Impidimpベロバー', 'Prankster Frisk Pickpocket', '45', '45', '30', '55', '40', '50', '#860', 'Morgremギモー', 'Prankster Frisk Pickpocket', '65', '60', '45', '75', '55', '70', '#861', 'Grimmsnarlオーロンゲ', 'Prankster Frisk Pickpocket', '95', '120', '65', '95', '75', '60', '#862', 'Obstagoonタチフサグマ', 'Reckless Guts Defiant', '93', '90', '101', '60', '81', '95', '#863', 'Perrserkerニャイキング', 'Battle Armor Tough Claws Steely Spirit', '70', '110', '100', '50', '60', '50', '#864', 'Cursolaサニゴーン', 'Weak Armor Perish Body', '60', '95', '50', '145', '130', '30', '#865', \"Sirfetch'dネギガナイト\", 'Steadfast Scrappy', '62', '135', '95', '68', '82', '65', '#866', 'Mr. Rimeバリコオル', 'Tangled Feet Screen Cleaner Ice Body', '80', '85', '75', '110', '100', '70', '#867', 'Runerigusデスバーン', 'Wandering Spirit', '58', '95', '145', '50', '105', '30', '#868', 'Milceryマホミル', 'Sweet Veil Aroma Veil', '45', '40', '40', '50', '61', '34', '#869', 'Alcremieマホイップ', 'Sweet Veil Aroma Veil', '65', '60', '75', '110', '121', '64', '#870', 'Falinksタイレーツ', 'Battle Armor Defiant', '65', '100', '100', '70', '60', '75', '#871', 'Pincurchinバチンウニ', 'Lightning Rod Electric Surge', '48', '101', '95', '91', '85', '15', '#872', 'Snomユキハミ', 'Shield Dust Ice Scales', '30', '25', '35', '45', '30', '20', '#873', 'Frosmothモスノウ', 'Shield Dust Ice Scales', '70', '65', '60', '125', '90', '65', '#874', 'Stonjournerイシヘンジン', 'Power Spot', '100', '125', '135', '20', '20', '70', '#875', 'Eiscueコオリッポ', 'Ice Face', '75', '80', '110', '65', '90', '50', '#875', 'Eiscueコオリッポ', 'Ice Face', '75', '80', '70', '65', '50', '130', '#876', 'Indeedeeイエッサン', 'Inner Focus Synchronize Psychic Surge', '60', '65', '55', '105', '95', '95', '#876', 'Indeedeeイエッサン', 'Own Tempo Synchronize Psychic Surge', '70', '55', '65', '95', '105', '85', '#877', 'Morpekoモルペコ', 'Hunger Switch', '58', '95', '58', '70', '58', '97', '#878', 'Cufantゾウドウ', 'Sheer Force Heavy Metal', '72', '80', '49', '40', '49', '40', '#879', 'Copperajahダイオウドウ', 'Sheer Force Heavy Metal', '122', '130', '69', '80', '69', '30', '#880', 'Dracozoltパッチラゴン', 'Volt Absorb Hustle Sand Rush', '90', '100', '90', '80', '70', '75', '#881', 'Arctozoltパッチルドン', 'Volt Absorb Static Slush Rush', '90', '100', '90', '90', '80', '55', '#882', 'Dracovishウオノラゴン', 'Water Absorb Strong Jaw Sand Rush', '90', '90', '100', '70', '80', '75', '#883', 'Arctovishウオチルドン', 'Water Absorb Ice Body Slush Rush', '90', '90', '100', '80', '90', '55', '#884', 'Duraludonジュラルドン', 'Light Metal Heavy Metal Stalwart', '70', '95', '115', '120', '50', '85', '#885', 'Dreepyドラメシヤ', 'Clear Body Infiltrator Cursed Body', '28', '60', '30', '40', '30', '82', '#886', 'Drakloakドロンチ', 'Clear Body Infiltrator Cursed Body', '68', '80', '50', '60', '50', '102', '#887', 'Dragapultドラパルト', 'Clear Body Infiltrator Cursed Body', '88', '120', '75', '100', '75', '142', '#888', 'Zacianザシアン', 'Intrepid Sword', '92', '130', '115', '80', '115', '138', '#888', 'Zacianザシアン', 'Intrepid Sword', '92', '170', '115', '80', '115', '148', '#889', 'Zamazentaザマゼンタ', 'Dauntless Shield', '92', '130', '115', '80', '115', '138', '#889', 'Zamazentaザマゼンタ', 'Dauntless Shield', '92', '130', '145', '80', '145', '128', '#890', 'Eternatusムゲンダイナ', 'Pressure', '140', '85', '95', '145', '95', '130', '#891', 'Kubfuダクマ', 'Inner Focus', '60', '90', '60', '53', '50', '72', '#892', 'Urshifuウーラオス', 'Unseen Fist', '100', '130', '100', '63', '60', '97', '#892', 'Urshifuウーラオス', 'Unseen Fist', '100', '130', '100', '63', '60', '97', '#893', 'Zarudeザルード', 'Leaf Guard', '105', '120', '105', '70', '95', '105', '#894', 'Regielekiレジエレキ', 'Transistor', '80', '100', '50', '100', '50', '200', '#895', 'Regidragoレジドラゴ', \"Dragon's Maw\", '200', '100', '50', '100', '50', '80', '#896', 'Glastrierブリザポス', 'Chilling Neigh', '100', '145', '130', '65', '110', '30', '#897', 'Spectrierレイスポス', 'Grim Neigh', '100', '65', '60', '145', '80', '130', '#898', 'Calyrexバドレックス', 'Unnerve', '100', '80', '80', '80', '80', '80', '#898', 'Calyrexバドレックス', 'As One - Unnerve Chilling Neigh', '100', '165', '150', '85', '130', '50', '#898', 'Calyrexバドレックス', 'As One - Unnerve Grim Neigh', '100', '85', '80', '165', '100', '150']\n"
     ]
    }
   ],
   "source": [
    "data = []\n",
    "pokemon = soup.find_all('td', class_ ='fooinfo')\n",
    "for p in pokemon:\n",
    "    data.append(p.getText().strip())\n",
    "\n",
    "data = [x for x in data if x]\n",
    "print(data)"
   ]
  },
  {
   "cell_type": "code",
   "execution_count": 5,
   "id": "forced-dependence",
   "metadata": {},
   "outputs": [
    {
     "name": "stdout",
     "output_type": "stream",
     "text": [
      "[['#810', 'Grookeyサルノリ', 'Overgrow Grassy Surge', '50', '65', '50', '40', '40', '65'], ['#811', 'Thwackeyバチンキー', 'Overgrow Grassy Surge', '70', '85', '70', '55', '60', '80'], ['#812', 'Rillaboomゴリランダー', 'Overgrow Grassy Surge', '100', '125', '90', '60', '70', '85'], ['#813', 'Scorbunnyヒバニー', 'Blaze Libero', '50', '71', '40', '40', '40', '69'], ['#814', 'Rabootラビフット', 'Blaze Libero', '65', '86', '60', '55', '60', '94'], ['#815', 'Cinderaceエースバーン', 'Blaze Libero', '80', '116', '75', '65', '75', '119'], ['#816', 'Sobbleメッソン', 'Torrent Sniper', '50', '40', '40', '70', '40', '70'], ['#817', 'Drizzileジメレオン', 'Torrent Sniper', '65', '60', '55', '95', '55', '90'], ['#818', 'Inteleonインテレオン', 'Torrent Sniper', '70', '85', '65', '125', '65', '120'], ['#819', 'Skwovetホシガリス', 'Cheek Pouch Gluttony', '70', '55', '55', '35', '35', '25'], ['#820', 'Greedentヨクバリス', 'Cheek Pouch Gluttony', '120', '95', '95', '55', '75', '20'], ['#821', 'Rookideeココガラ', 'Keen Eye Unnerve Big Pecks', '38', '47', '35', '33', '35', '57'], ['#822', 'Corvisquireアオガラス', 'Keen Eye Unnerve Big Pecks', '68', '67', '55', '43', '55', '77'], ['#823', 'Corviknightアーマーガア', 'Pressure Unnerve Mirror Armor', '98', '87', '105', '53', '85', '67'], ['#824', 'Blipbugサッチムシ', 'Swarm Compoundeyes Telepathy', '25', '20', '20', '25', '45', '45'], ['#825', 'Dottlerレドームシ', 'Swarm Compoundeyes Telepathy', '50', '35', '80', '50', '90', '30'], ['#826', 'Orbeetleイオルブ', 'Swarm Frisk Telepathy', '60', '45', '110', '80', '120', '90'], ['#827', 'Nickitクスネ', 'Run Away Unburden Stakeout', '40', '28', '28', '47', '52', '50'], ['#828', 'Thievulフォクスライ', 'Run Away Unburden Stakeout', '70', '58', '58', '87', '92', '90'], ['#829', 'Gossifleurヒメンカ', 'Cotton Down Regenerator Effect Spore', '40', '40', '60', '40', '60', '10'], ['#830', 'Eldegossワタシラガ', 'Cotton Down Regenerator Effect Spore', '60', '50', '90', '80', '120', '60'], ['#831', 'Woolooウールー', 'Fluffy Run Away Bulletproof', '42', '40', '55', '40', '45', '48'], ['#832', 'Dubwoolバイウールー', 'Fluffy Steadfast Bulletproof', '72', '80', '100', '60', '90', '88'], ['#833', 'Chewtleカムカメ', 'Strong Jaw Shell Armor Swift Swim', '50', '64', '50', '38', '38', '44'], ['#834', 'Drednawカジリガメ', 'Strong Jaw Shell Armor Swift Swim', '90', '115', '90', '48', '68', '74'], ['#835', 'Yamperワンパチ', 'Ball Fetch Rattled', '59', '45', '50', '40', '50', '26'], ['#836', 'Boltundパルスワン', 'Strong Jaw Competitive', '69', '90', '60', '90', '60', '121'], ['#837', 'Rolycolyタンドン', 'Steam Engine Heatproof Flash Fire', '30', '40', '50', '40', '50', '30'], ['#838', 'Carkolトロッゴン', 'Steam Engine Flame Body Flash Fire', '80', '60', '90', '60', '70', '50'], ['#839', 'Coalossalセキタンザン', 'Steam Engine Flame Body Flash Fire', '110', '80', '120', '80', '90', '30'], ['#840', 'Applinカジッチュ', 'Ripen Gluttony Bulletproof', '40', '40', '80', '40', '40', '20'], ['#841', 'Flappleアップリュー', 'Ripen Gluttony Hustle', '70', '110', '80', '95', '60', '70'], ['#842', 'Appletunタルップル', 'Ripen Gluttony Thick Fat', '110', '85', '80', '100', '80', '30'], ['#843', 'Silicobraスナヘビ', 'Sand Spit Shed Skin Sand Veil', '52', '57', '75', '35', '50', '46'], ['#844', 'Sandacondaサダイジャ', 'Sand Spit Shed Skin Sand Veil', '72', '107', '125', '65', '70', '71'], ['#845', 'Cramorantウッウ', 'Gulp Missile', '70', '85', '55', '85', '95', '85'], ['#846', 'Arrokudaサシカマス', 'Swift Swim Propeller Tail', '41', '63', '40', '40', '30', '66'], ['#847', 'Barraskewdaカマスジョー', 'Swift Swim Propeller Tail', '61', '123', '60', '60', '50', '136'], ['#848', 'Toxelエレズン', 'Rattled Static Klutz', '40', '38', '35', '54', '35', '40'], ['#849', 'Toxtricityストリンダー', 'Punk Rock Plus Technician', '75', '98', '70', '114', '70', '75'], ['#849', 'Toxtricityストリンダー', 'Punk Rock Minus Technician', '75', '98', '70', '114', '70', '75'], ['#850', 'Sizzlipedeヤクデ', 'Flash Fire White Smoke Flame Body', '50', '65', '45', '50', '50', '45'], ['#851', 'Centiskorchマルヤクデ', 'Flash Fire White Smoke Flame Body', '100', '115', '65', '90', '90', '65'], ['#852', 'Clobbopusタタッコ', 'Limber Technician', '50', '68', '60', '50', '50', '32'], ['#853', 'Grapploctオトスパス', 'Limber Technician', '80', '118', '90', '70', '80', '42'], ['#854', 'Sinisteaヤバチャ', 'Weak Armor Cursed Body', '40', '45', '45', '74', '54', '50'], ['#855', 'Polteageistポットデス', 'Weak Armor Cursed Body', '60', '65', '65', '134', '114', '70'], ['#856', 'Hatennaミブリム', 'Healer Anticipation Magic Bounce', '42', '30', '45', '56', '53', '39'], ['#857', 'Hattremテブリム', 'Healer Anticipation Magic Bounce', '57', '40', '65', '86', '73', '49'], ['#858', 'Hattereneブリムオン', 'Healer Anticipation Magic Bounce', '57', '90', '95', '136', '103', '29'], ['#859', 'Impidimpベロバー', 'Prankster Frisk Pickpocket', '45', '45', '30', '55', '40', '50'], ['#860', 'Morgremギモー', 'Prankster Frisk Pickpocket', '65', '60', '45', '75', '55', '70'], ['#861', 'Grimmsnarlオーロンゲ', 'Prankster Frisk Pickpocket', '95', '120', '65', '95', '75', '60'], ['#862', 'Obstagoonタチフサグマ', 'Reckless Guts Defiant', '93', '90', '101', '60', '81', '95'], ['#863', 'Perrserkerニャイキング', 'Battle Armor Tough Claws Steely Spirit', '70', '110', '100', '50', '60', '50'], ['#864', 'Cursolaサニゴーン', 'Weak Armor Perish Body', '60', '95', '50', '145', '130', '30'], ['#865', \"Sirfetch'dネギガナイト\", 'Steadfast Scrappy', '62', '135', '95', '68', '82', '65'], ['#866', 'Mr. Rimeバリコオル', 'Tangled Feet Screen Cleaner Ice Body', '80', '85', '75', '110', '100', '70'], ['#867', 'Runerigusデスバーン', 'Wandering Spirit', '58', '95', '145', '50', '105', '30'], ['#868', 'Milceryマホミル', 'Sweet Veil Aroma Veil', '45', '40', '40', '50', '61', '34'], ['#869', 'Alcremieマホイップ', 'Sweet Veil Aroma Veil', '65', '60', '75', '110', '121', '64'], ['#870', 'Falinksタイレーツ', 'Battle Armor Defiant', '65', '100', '100', '70', '60', '75'], ['#871', 'Pincurchinバチンウニ', 'Lightning Rod Electric Surge', '48', '101', '95', '91', '85', '15'], ['#872', 'Snomユキハミ', 'Shield Dust Ice Scales', '30', '25', '35', '45', '30', '20'], ['#873', 'Frosmothモスノウ', 'Shield Dust Ice Scales', '70', '65', '60', '125', '90', '65'], ['#874', 'Stonjournerイシヘンジン', 'Power Spot', '100', '125', '135', '20', '20', '70'], ['#875', 'Eiscueコオリッポ', 'Ice Face', '75', '80', '110', '65', '90', '50'], ['#875', 'Eiscueコオリッポ', 'Ice Face', '75', '80', '70', '65', '50', '130'], ['#876', 'Indeedeeイエッサン', 'Inner Focus Synchronize Psychic Surge', '60', '65', '55', '105', '95', '95'], ['#876', 'Indeedeeイエッサン', 'Own Tempo Synchronize Psychic Surge', '70', '55', '65', '95', '105', '85'], ['#877', 'Morpekoモルペコ', 'Hunger Switch', '58', '95', '58', '70', '58', '97'], ['#878', 'Cufantゾウドウ', 'Sheer Force Heavy Metal', '72', '80', '49', '40', '49', '40'], ['#879', 'Copperajahダイオウドウ', 'Sheer Force Heavy Metal', '122', '130', '69', '80', '69', '30'], ['#880', 'Dracozoltパッチラゴン', 'Volt Absorb Hustle Sand Rush', '90', '100', '90', '80', '70', '75'], ['#881', 'Arctozoltパッチルドン', 'Volt Absorb Static Slush Rush', '90', '100', '90', '90', '80', '55'], ['#882', 'Dracovishウオノラゴン', 'Water Absorb Strong Jaw Sand Rush', '90', '90', '100', '70', '80', '75'], ['#883', 'Arctovishウオチルドン', 'Water Absorb Ice Body Slush Rush', '90', '90', '100', '80', '90', '55'], ['#884', 'Duraludonジュラルドン', 'Light Metal Heavy Metal Stalwart', '70', '95', '115', '120', '50', '85'], ['#885', 'Dreepyドラメシヤ', 'Clear Body Infiltrator Cursed Body', '28', '60', '30', '40', '30', '82'], ['#886', 'Drakloakドロンチ', 'Clear Body Infiltrator Cursed Body', '68', '80', '50', '60', '50', '102'], ['#887', 'Dragapultドラパルト', 'Clear Body Infiltrator Cursed Body', '88', '120', '75', '100', '75', '142'], ['#888', 'Zacianザシアン', 'Intrepid Sword', '92', '130', '115', '80', '115', '138'], ['#888', 'Zacianザシアン', 'Intrepid Sword', '92', '170', '115', '80', '115', '148'], ['#889', 'Zamazentaザマゼンタ', 'Dauntless Shield', '92', '130', '115', '80', '115', '138'], ['#889', 'Zamazentaザマゼンタ', 'Dauntless Shield', '92', '130', '145', '80', '145', '128'], ['#890', 'Eternatusムゲンダイナ', 'Pressure', '140', '85', '95', '145', '95', '130'], ['#891', 'Kubfuダクマ', 'Inner Focus', '60', '90', '60', '53', '50', '72'], ['#892', 'Urshifuウーラオス', 'Unseen Fist', '100', '130', '100', '63', '60', '97'], ['#892', 'Urshifuウーラオス', 'Unseen Fist', '100', '130', '100', '63', '60', '97'], ['#893', 'Zarudeザルード', 'Leaf Guard', '105', '120', '105', '70', '95', '105'], ['#894', 'Regielekiレジエレキ', 'Transistor', '80', '100', '50', '100', '50', '200'], ['#895', 'Regidragoレジドラゴ', \"Dragon's Maw\", '200', '100', '50', '100', '50', '80'], ['#896', 'Glastrierブリザポス', 'Chilling Neigh', '100', '145', '130', '65', '110', '30'], ['#897', 'Spectrierレイスポス', 'Grim Neigh', '100', '65', '60', '145', '80', '130'], ['#898', 'Calyrexバドレックス', 'Unnerve', '100', '80', '80', '80', '80', '80'], ['#898', 'Calyrexバドレックス', 'As One - Unnerve Chilling Neigh', '100', '165', '150', '85', '130', '50'], ['#898', 'Calyrexバドレックス', 'As One - Unnerve Grim Neigh', '100', '85', '80', '165', '100', '150']]\n"
     ]
    }
   ],
   "source": [
    "def chunks(lst, n):\n",
    "    \"\"\"Yield successive n-sized chunks from lst.\"\"\"\n",
    "    for i in range(0, len(lst), n):\n",
    "        yield lst[i:i + n]\n",
    "data = list(chunks(data,9))\n",
    "print(data)\n"
   ]
  },
  {
   "cell_type": "code",
   "execution_count": 6,
   "id": "flying-birmingham",
   "metadata": {},
   "outputs": [],
   "source": [
    "headers =['No.','Name','Abilities','HP','Att','Def','SA','SD','Spd']"
   ]
  },
  {
   "cell_type": "code",
   "execution_count": 7,
   "id": "minor-softball",
   "metadata": {},
   "outputs": [],
   "source": [
    "import csv"
   ]
  },
  {
   "cell_type": "code",
   "execution_count": 8,
   "id": "american-avenue",
   "metadata": {},
   "outputs": [],
   "source": [
    "#data = [x.encode('utf-8') for x in data]\n",
    "\n",
    "for list in data:\n",
    "    for i in list:\n",
    "        i.encode('utf-8')"
   ]
  },
  {
   "cell_type": "code",
   "execution_count": 10,
   "id": "referenced-timing",
   "metadata": {},
   "outputs": [
    {
     "ename": "UnicodeEncodeError",
     "evalue": "'charmap' codec can't encode characters in position 12-15: character maps to <undefined>",
     "output_type": "error",
     "traceback": [
      "\u001b[1;31m---------------------------------------------------------------------------\u001b[0m",
      "\u001b[1;31mUnicodeEncodeError\u001b[0m                        Traceback (most recent call last)",
      "\u001b[1;32m<ipython-input-10-e61f3fbfafdb>\u001b[0m in \u001b[0;36m<module>\u001b[1;34m\u001b[0m\n\u001b[0;32m      5\u001b[0m \u001b[1;33m\u001b[0m\u001b[0m\n\u001b[0;32m      6\u001b[0m     \u001b[0mwrite\u001b[0m\u001b[1;33m.\u001b[0m\u001b[0mwriterow\u001b[0m\u001b[1;33m(\u001b[0m\u001b[0mheaders\u001b[0m\u001b[1;33m)\u001b[0m\u001b[1;33m\u001b[0m\u001b[1;33m\u001b[0m\u001b[0m\n\u001b[1;32m----> 7\u001b[1;33m     \u001b[0mwrite\u001b[0m\u001b[1;33m.\u001b[0m\u001b[0mwriterows\u001b[0m\u001b[1;33m(\u001b[0m\u001b[0mdata\u001b[0m\u001b[1;33m)\u001b[0m\u001b[1;33m\u001b[0m\u001b[1;33m\u001b[0m\u001b[0m\n\u001b[0m",
      "\u001b[1;32mE:\\Anaconda\\lib\\encodings\\cp1252.py\u001b[0m in \u001b[0;36mencode\u001b[1;34m(self, input, final)\u001b[0m\n\u001b[0;32m     17\u001b[0m \u001b[1;32mclass\u001b[0m \u001b[0mIncrementalEncoder\u001b[0m\u001b[1;33m(\u001b[0m\u001b[0mcodecs\u001b[0m\u001b[1;33m.\u001b[0m\u001b[0mIncrementalEncoder\u001b[0m\u001b[1;33m)\u001b[0m\u001b[1;33m:\u001b[0m\u001b[1;33m\u001b[0m\u001b[1;33m\u001b[0m\u001b[0m\n\u001b[0;32m     18\u001b[0m     \u001b[1;32mdef\u001b[0m \u001b[0mencode\u001b[0m\u001b[1;33m(\u001b[0m\u001b[0mself\u001b[0m\u001b[1;33m,\u001b[0m \u001b[0minput\u001b[0m\u001b[1;33m,\u001b[0m \u001b[0mfinal\u001b[0m\u001b[1;33m=\u001b[0m\u001b[1;32mFalse\u001b[0m\u001b[1;33m)\u001b[0m\u001b[1;33m:\u001b[0m\u001b[1;33m\u001b[0m\u001b[1;33m\u001b[0m\u001b[0m\n\u001b[1;32m---> 19\u001b[1;33m         \u001b[1;32mreturn\u001b[0m \u001b[0mcodecs\u001b[0m\u001b[1;33m.\u001b[0m\u001b[0mcharmap_encode\u001b[0m\u001b[1;33m(\u001b[0m\u001b[0minput\u001b[0m\u001b[1;33m,\u001b[0m\u001b[0mself\u001b[0m\u001b[1;33m.\u001b[0m\u001b[0merrors\u001b[0m\u001b[1;33m,\u001b[0m\u001b[0mencoding_table\u001b[0m\u001b[1;33m)\u001b[0m\u001b[1;33m[\u001b[0m\u001b[1;36m0\u001b[0m\u001b[1;33m]\u001b[0m\u001b[1;33m\u001b[0m\u001b[1;33m\u001b[0m\u001b[0m\n\u001b[0m\u001b[0;32m     20\u001b[0m \u001b[1;33m\u001b[0m\u001b[0m\n\u001b[0;32m     21\u001b[0m \u001b[1;32mclass\u001b[0m \u001b[0mIncrementalDecoder\u001b[0m\u001b[1;33m(\u001b[0m\u001b[0mcodecs\u001b[0m\u001b[1;33m.\u001b[0m\u001b[0mIncrementalDecoder\u001b[0m\u001b[1;33m)\u001b[0m\u001b[1;33m:\u001b[0m\u001b[1;33m\u001b[0m\u001b[1;33m\u001b[0m\u001b[0m\n",
      "\u001b[1;31mUnicodeEncodeError\u001b[0m: 'charmap' codec can't encode characters in position 12-15: character maps to <undefined>"
     ]
    }
   ],
   "source": [
    "with open('PokemonGen8_Data', 'w') as f: \n",
    "      \n",
    "    # using csv.writer method from CSV package \n",
    "    write = csv.writer(f) \n",
    "      \n",
    "    write.writerow(headers) \n",
    "    write.writerows(data) "
   ]
  },
  {
   "cell_type": "code",
   "execution_count": null,
   "id": "massive-behalf",
   "metadata": {},
   "outputs": [],
   "source": []
  },
  {
   "cell_type": "code",
   "execution_count": null,
   "id": "cleared-interference",
   "metadata": {},
   "outputs": [],
   "source": []
  }
 ],
 "metadata": {
  "kernelspec": {
   "display_name": "Python 3",
   "language": "python",
   "name": "python3"
  },
  "language_info": {
   "codemirror_mode": {
    "name": "ipython",
    "version": 3
   },
   "file_extension": ".py",
   "mimetype": "text/x-python",
   "name": "python",
   "nbconvert_exporter": "python",
   "pygments_lexer": "ipython3",
   "version": "3.7.4"
  }
 },
 "nbformat": 4,
 "nbformat_minor": 5
}
